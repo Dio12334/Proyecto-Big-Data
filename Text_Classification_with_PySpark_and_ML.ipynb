{
  "nbformat": 4,
  "nbformat_minor": 5,
  "metadata": {
    "kernelspec": {
      "display_name": "Python 3",
      "language": "python",
      "name": "python3"
    },
    "language_info": {
      "codemirror_mode": {
        "name": "ipython",
        "version": 3
      },
      "file_extension": ".py",
      "mimetype": "text/x-python",
      "name": "python",
      "nbconvert_exporter": "python",
      "pygments_lexer": "ipython3",
      "version": "3.7.9"
    },
    "colab": {
      "provenance": []
    }
  },
  "cells": [
    {
      "cell_type": "markdown",
      "metadata": {
        "id": "divided-moldova"
      },
      "source": [
        "### Text Classification with PySpark\n",
        "#### MultiClass Text Classification\n",
        "\n",
        "#### Task\n",
        "+ predict the subject category given a course title or text\n",
        "\n",
        "#### Pyspark\n",
        "+ pipenv install pyspark\n"
      ],
      "id": "divided-moldova"
    },
    {
      "cell_type": "code",
      "source": [
        "!pip install pyspark"
      ],
      "metadata": {
        "colab": {
          "base_uri": "https://localhost:8080/"
        },
        "id": "-GN2VCHjFF47",
        "outputId": "fa2401e8-a110-47c7-e163-ed7f6f9be940"
      },
      "id": "-GN2VCHjFF47",
      "execution_count": 1,
      "outputs": [
        {
          "output_type": "stream",
          "name": "stdout",
          "text": [
            "Requirement already satisfied: pyspark in /usr/local/lib/python3.10/dist-packages (3.4.1)\n",
            "Requirement already satisfied: py4j==0.10.9.7 in /usr/local/lib/python3.10/dist-packages (from pyspark) (0.10.9.7)\n"
          ]
        }
      ]
    },
    {
      "cell_type": "code",
      "metadata": {
        "id": "critical-reducing"
      },
      "source": [
        "from pyspark.sql import SparkSession\n",
        "from pyspark.ml.feature import Tokenizer, StopWordsRemover, CountVectorizer, IDF, StringIndexer\n",
        "from pyspark.ml.classification import LogisticRegression\n",
        "from pyspark.ml import Pipeline\n",
        "from pyspark.ml.evaluation import MulticlassClassificationEvaluator\n"
      ],
      "id": "critical-reducing",
      "execution_count": 53,
      "outputs": []
    },
    {
      "cell_type": "code",
      "metadata": {
        "id": "crucial-container"
      },
      "source": [
        "spark = SparkSession.builder.appName(\"TextClassifierwithPySpark\").getOrCreate()"
      ],
      "id": "crucial-container",
      "execution_count": 54,
      "outputs": []
    },
    {
      "cell_type": "code",
      "metadata": {
        "id": "communist-preserve"
      },
      "source": [
        "# Load the first parquet file\n",
        "df1 = spark.read.parquet('Apparel_v1_00/amazon_us_reviews-train-00000-of-00005.parquet')"
      ],
      "id": "communist-preserve",
      "execution_count": 78,
      "outputs": []
    },
    {
      "cell_type": "code",
      "source": [
        "# Load the second parquet file\n",
        "df2 = spark.read.parquet('Apparel_v1_00/amazon_us_reviews-train-00000-of-00004.parquet')\n"
      ],
      "metadata": {
        "id": "_gF4fKk7bkCl"
      },
      "id": "_gF4fKk7bkCl",
      "execution_count": 80,
      "outputs": []
    },
    {
      "cell_type": "code",
      "source": [
        "# Merge the datasets\n",
        "df = df1.union(df2)"
      ],
      "metadata": {
        "id": "fQh2FJm1bpAZ"
      },
      "id": "fQh2FJm1bpAZ",
      "execution_count": 81,
      "outputs": []
    },
    {
      "cell_type": "code",
      "metadata": {
        "collapsed": true,
        "jupyter": {
          "outputs_hidden": true
        },
        "tags": [],
        "id": "specific-attraction",
        "colab": {
          "base_uri": "https://localhost:8080/"
        },
        "outputId": "ed6760e8-7bf3-4c72-9a1e-39a31e37b8bd"
      },
      "source": [
        "df.show()"
      ],
      "id": "specific-attraction",
      "execution_count": 82,
      "outputs": [
        {
          "output_type": "stream",
          "name": "stdout",
          "text": [
            "+-----------+-----------+--------------+----------+--------------+--------------------+----------------+-----------+-------------+-----------+----+-----------------+--------------------+--------------------+-----------+\n",
            "|marketplace|customer_id|     review_id|product_id|product_parent|       product_title|product_category|star_rating|helpful_votes|total_votes|vine|verified_purchase|     review_headline|         review_body|review_date|\n",
            "+-----------+-----------+--------------+----------+--------------+--------------------+----------------+-----------+-------------+-----------+----+-----------------+--------------------+--------------------+-----------+\n",
            "|         US|   32158956|R1KKOXHNI8MSXU|B01KL6O72Y|      24485154|Easy Tool Stainle...|         Apparel|          4|            0|          0|   0|                1|★ THESE REALLY DO...|These Really Do W...| 2013-01-14|\n",
            "|         US|    2714559|R26SP2OPDK4HT7|B01ID3ZS5W|     363128556|V28 Women Cowl Ne...|         Apparel|          5|            1|          2|   0|                1|Favorite for wint...|I love this dress...| 2014-03-04|\n",
            "|         US|   12608825| RWQEDYAX373I1|B01I497BGY|     811958549|James Fiallo Men'...|         Apparel|          5|            0|          0|   0|                1|Great Socks for t...|Nice socks, great...| 2015-07-12|\n",
            "|         US|   25482800|R231YI7R4GPF6J|B01HDXFZK6|     692205728|Belfry Gangster 1...|         Apparel|          5|            0|          0|   0|                1|          Slick hat!|I bought this for...| 2015-06-03|\n",
            "|         US|    9310286|R3KO3W45DD0L1K|B01G6MBEBY|     431150422|JAEDEN Women's Be...|         Apparel|          5|            0|          0|   0|                1|I would do it again!|Perfect dress and...| 2015-06-12|\n",
            "|         US|   26631939|R1C4QH63NFL5NJ|B01FWRXN0Y|     366144407|Levi's Boys' 514 ...|         Apparel|          5|            0|          0|   0|                1|          Five Stars|Excellent for my ...| 2014-04-22|\n",
            "|         US|   48785098|R2GP65O1U9N7BP|B01EXNH1HE|     786052021|Minimalist Wallet...|         Apparel|          5|            0|          0|   0|                1|            Love it!|Raw is the only w...| 2015-07-28|\n",
            "|         US|   39548589|R3O29CT5MQQ3XQ|B01E7OL09O|     108920964|Harriton Men's Ba...|         Apparel|          4|            0|          0|   0|                1|         Three Stars|        A bit large.| 2015-07-10|\n",
            "|         US|   29355866|R1ZECD2AA8QFF6|B01DXHX81O|     317132458|Jockey Women's Un...|         Apparel|          5|            0|          0|   0|                1|          Five Stars|          Great fit!| 2015-08-09|\n",
            "|         US|   27477484|R2S79GCF6J89OA|B01DDULIJK|     110598191|Alexander Del Ros...|         Apparel|          3|            0|          0|   0|                1|    Not my favorite.|Shirt a bit too l...| 2014-05-24|\n",
            "|         US|   17685865|R1CBCUGNP37MPK|B01BOKOL4A|     121408017|Jockey Women's Un...|         Apparel|          5|            0|          0|   0|                1|The Jockey Women'...|The Jockey Women'...| 2015-06-10|\n",
            "|         US|   19787539|R3NU4WUR5ZNV1V|B01B3Q4Q0O|     134506082|Bali Passion For ...|         Apparel|          5|            0|          0|   0|                1|          Five Stars|cup size is just ...| 2013-09-06|\n",
            "|         US|   44196725|R32EPCJ3XF8LGE|B01ADDSL9U|     747539045|Lilyette Women's ...|         Apparel|          5|            0|          0|   0|                1|          Five Stars|          Perfect...| 2014-11-17|\n",
            "|         US|   45510794|R1XIBC6WQBW31M|B019P1X5XI|     696379847|Vanity Fair Women...|         Apparel|          5|            0|          0|   0|                1|best ever4 for me...|best  ever4 for m...| 2013-05-12|\n",
            "|         US|   42025740|R1P11MVDZ65LMH|B019MDXIXG|     387286513|Warner's Women's ...|         Apparel|          5|            0|          0|   0|                1|          Five Stars|          Great fit.| 2014-02-14|\n",
            "|         US|   27097189|R1OJA3DJL0VDDK|B019438FEG|     764190574|Columbia Women's ...|         Apparel|          5|            0|          0|   0|                1|          Five Stars|I have this Colum...| 2014-10-20|\n",
            "|         US|   13808904|R1THWA5YRJLOOF|B0178HGNIA|     816266887|Robes King RK Cla...|         Apparel|          4|            0|          0|   0|                1|          Four Stars|My husband found ...| 2015-07-05|\n",
            "|         US|   30225894| R738LCNRSJVXP|B016VIU0QI|     323924698|VIV Collection Be...|         Apparel|          5|            6|          7|   0|                1|   Awesome leggings!|Awesome leggings!...| 2015-07-29|\n",
            "|         US|   45223824|R1N3Z13931J3O9|B016PUU3VO|     893588059|Fruit of the Loom...|         Apparel|          2|            0|          0|   0|                1|Sizes not correct...|I ordered the sam...| 2015-01-01|\n",
            "|         US|   22300783|R1LBNTP7E8N89Z|B016AQNDM4|     917361125|Jockey Scrubs Wom...|         Apparel|          1|            0|          0|   0|                1|            One Star| not exact in sizing| 2015-02-12|\n",
            "+-----------+-----------+--------------+----------+--------------+--------------------+----------------+-----------+-------------+-----------+----+-----------------+--------------------+--------------------+-----------+\n",
            "only showing top 20 rows\n",
            "\n"
          ]
        }
      ]
    },
    {
      "cell_type": "code",
      "metadata": {
        "collapsed": true,
        "jupyter": {
          "outputs_hidden": true
        },
        "tags": [],
        "id": "classical-uniform"
      },
      "source": [
        "# Convert 'star_rating' column to string type\n",
        "df = df.withColumn('star_rating', df['star_rating'].cast('string'))\n",
        "\n",
        "# Convert 'review_body' column to string type\n",
        "df = df.withColumn('review_body', df['review_body'].cast('string'))\n",
        "\n",
        "# Apply label encoding based on star_rating\n",
        "df = df.withColumn('label', (df['star_rating'] > '3').cast('integer'))"
      ],
      "id": "classical-uniform",
      "execution_count": 83,
      "outputs": []
    },
    {
      "cell_type": "code",
      "metadata": {
        "id": "announced-picking"
      },
      "source": [
        "# Define the preprocess_text function\n",
        "def preprocess_text(text):\n",
        "    # Remove punctuation\n",
        "    import re\n",
        "    import string\n",
        "    text = re.sub('[' + string.punctuation + ']', '', text)\n",
        "\n",
        "    # Convert to lowercase\n",
        "    text = text.lower()\n",
        "\n",
        "    # Remove extra whitespaces\n",
        "    text = ' '.join(text.split())\n",
        "\n",
        "    return text"
      ],
      "id": "announced-picking",
      "execution_count": 84,
      "outputs": []
    },
    {
      "cell_type": "code",
      "metadata": {
        "id": "dimensional-bridges"
      },
      "source": [
        "# Create a UDF for the preprocess_text function\n",
        "from pyspark.sql.functions import udf\n",
        "preprocess_udf = udf(preprocess_text)"
      ],
      "id": "dimensional-bridges",
      "execution_count": 85,
      "outputs": []
    },
    {
      "cell_type": "code",
      "metadata": {
        "collapsed": true,
        "jupyter": {
          "outputs_hidden": true
        },
        "tags": [],
        "id": "concerned-reggae"
      },
      "source": [
        "# Apply the preprocess_text function to the 'review_body' column\n",
        "df = df.withColumn('review_body', preprocess_udf('review_body'))\n"
      ],
      "id": "concerned-reggae",
      "execution_count": 86,
      "outputs": []
    },
    {
      "cell_type": "code",
      "metadata": {
        "collapsed": true,
        "jupyter": {
          "outputs_hidden": true
        },
        "tags": [],
        "id": "romance-holiday"
      },
      "source": [
        "# Select columns for training\n",
        "df = df.select('review_body', 'label')"
      ],
      "id": "romance-holiday",
      "execution_count": 87,
      "outputs": []
    },
    {
      "cell_type": "code",
      "metadata": {
        "id": "authorized-royal"
      },
      "source": [
        "# Split the dataset into training and testing sets\n",
        "trainDF, testDF = df.randomSplit([0.7, 0.3], seed=42)"
      ],
      "id": "authorized-royal",
      "execution_count": 88,
      "outputs": []
    },
    {
      "cell_type": "code",
      "metadata": {
        "id": "suburban-reynolds"
      },
      "source": [
        "# Define the stages for the pipeline\n",
        "tokenizer = Tokenizer(inputCol='review_body', outputCol='mytokens')\n",
        "stopwords_remover = StopWordsRemover(inputCol='mytokens', outputCol='filtered_tokens')\n",
        "vectorizer = CountVectorizer(inputCol='filtered_tokens', outputCol='rawFeatures')\n",
        "idf = IDF(inputCol='rawFeatures', outputCol='vectorizedFeatures')\n",
        "lr = LogisticRegression(featuresCol='vectorizedFeatures', labelCol='label')\n"
      ],
      "id": "suburban-reynolds",
      "execution_count": 89,
      "outputs": []
    },
    {
      "cell_type": "code",
      "metadata": {
        "id": "statistical-saturday"
      },
      "source": [
        "# Build the pipeline\n",
        "pipeline = Pipeline(stages=[tokenizer, stopwords_remover, vectorizer, idf, lr])\n"
      ],
      "id": "statistical-saturday",
      "execution_count": 90,
      "outputs": []
    },
    {
      "cell_type": "markdown",
      "metadata": {
        "id": "beautiful-scoop"
      },
      "source": [
        "### Feature Extraction\n",
        "#### Build Features From Text\n",
        "+ CountVectorizer\n",
        "+ TFIDF\n",
        "+ WordEmbedding\n",
        "+ HashingTF\n",
        "+ etc"
      ],
      "id": "beautiful-scoop"
    },
    {
      "cell_type": "code",
      "metadata": {
        "id": "reduced-defendant"
      },
      "source": [
        "# Fit the pipeline on the training data\n",
        "lr_model = pipeline.fit(trainDF)\n"
      ],
      "id": "reduced-defendant",
      "execution_count": 91,
      "outputs": []
    },
    {
      "cell_type": "code",
      "metadata": {
        "collapsed": true,
        "jupyter": {
          "outputs_hidden": true
        },
        "tags": [],
        "id": "worthy-norwegian"
      },
      "source": [
        "# Make predictions on the testing data\n",
        "predictions = lr_model.transform(testDF)"
      ],
      "id": "worthy-norwegian",
      "execution_count": 92,
      "outputs": []
    },
    {
      "cell_type": "code",
      "metadata": {
        "id": "involved-accessory"
      },
      "source": [
        "# Evaluate the model\n",
        "evaluator = MulticlassClassificationEvaluator(labelCol='label', predictionCol='prediction', metricName='accuracy')\n",
        "accuracy = evaluator.evaluate(predictions)"
      ],
      "id": "involved-accessory",
      "execution_count": 93,
      "outputs": []
    },
    {
      "cell_type": "code",
      "metadata": {
        "id": "challenging-alcohol",
        "outputId": "f1766615-78ad-4d6c-f19d-5e49373ceedd",
        "colab": {
          "base_uri": "https://localhost:8080/"
        }
      },
      "source": [
        "# Print the accuracy\n",
        "print(\"Accuracy: {:.2f}%\".format(accuracy * 100))"
      ],
      "id": "challenging-alcohol",
      "execution_count": 94,
      "outputs": [
        {
          "output_type": "stream",
          "name": "stdout",
          "text": [
            "Accuracy: 87.63%\n"
          ]
        }
      ]
    },
    {
      "cell_type": "code",
      "source": [
        "\n",
        "# Create a single prediction DataFrame\n",
        "single_prediction = spark.createDataFrame([(\"I really like that it gives me backache\",)], [\"review_body\"])\n",
        "\n",
        "# Preprocess the single prediction data\n",
        "single_prediction = single_prediction.withColumn('review_body', preprocess_udf('review_body'))\n"
      ],
      "metadata": {
        "id": "JaCsImMJXseS"
      },
      "id": "JaCsImMJXseS",
      "execution_count": 103,
      "outputs": []
    },
    {
      "cell_type": "code",
      "source": [
        "# Make a single prediction\n",
        "single_prediction = lr_model.transform(single_prediction)\n",
        "\n",
        "# Show the prediction result\n",
        "single_prediction.select('review_body', 'rawPrediction', 'probability', 'prediction').show(truncate=False)"
      ],
      "metadata": {
        "colab": {
          "base_uri": "https://localhost:8080/"
        },
        "id": "9sNc-9adXv7V",
        "outputId": "fc65fe2e-8a15-4ff6-9182-eb3761c3577d"
      },
      "id": "9sNc-9adXv7V",
      "execution_count": 104,
      "outputs": [
        {
          "output_type": "stream",
          "name": "stdout",
          "text": [
            "+---------------------------------------+----------------------------------------+----------------------------------------+----------+\n",
            "|review_body                            |rawPrediction                           |probability                             |prediction|\n",
            "+---------------------------------------+----------------------------------------+----------------------------------------+----------+\n",
            "|i really like that it gives me backache|[-2.8372515428255287,2.8372515428255287]|[0.05534405463567931,0.9446559453643207]|1.0       |\n",
            "+---------------------------------------+----------------------------------------+----------------------------------------+----------+\n",
            "\n"
          ]
        }
      ]
    }
  ]
}